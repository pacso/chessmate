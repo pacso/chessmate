{
 "cells": [
  {
   "cell_type": "code",
   "execution_count": 2,
   "id": "de4e8cdc-d117-4e89-8840-79f8bfe5aeb5",
   "metadata": {
    "ExecuteTime": {
     "end_time": "2023-08-24T08:22:45.032158Z",
     "start_time": "2023-08-24T08:22:45.028051Z"
    }
   },
   "outputs": [
    {
     "name": "stdout",
     "output_type": "stream",
     "text": [
      "Hello, World!\n"
     ]
    }
   ],
   "source": [
    "print(\"Hello, World!\")"
   ]
  },
  {
   "cell_type": "code",
   "execution_count": null,
   "id": "add93d07-d76c-4e60-906d-84491a1c4718",
   "metadata": {},
   "outputs": [],
   "source": []
  }
 ],
 "metadata": {
  "kernelspec": {
   "display_name": "Python 3 (ipykernel)",
   "language": "python",
   "name": "python3"
  },
  "language_info": {
   "codemirror_mode": {
    "name": "ipython",
    "version": 3
   },
   "file_extension": ".py",
   "mimetype": "text/x-python",
   "name": "python",
   "nbconvert_exporter": "python",
   "pygments_lexer": "ipython3",
   "version": "3.11.4"
  }
 },
 "nbformat": 4,
 "nbformat_minor": 5
}
